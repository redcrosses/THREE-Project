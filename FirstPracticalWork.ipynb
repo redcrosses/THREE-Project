{
 "cells": [
  {
   "cell_type": "markdown",
   "metadata": {
    "id": "RgiFzR-TVFrA"
   },
   "source": [
    "# First Practical work\n",
    "\n",
    "* Name Student 1: Matteo Oliver Bekink\n",
    "* NIA Student 1: 100575997\n",
    "* Name Student 2:\n",
    "* NIA Student 2:\n",
    "* Name Student 3:\n",
    "* NIA Student 3:\n",
    "  \n",
    "This is second practical work skeleton.\n",
    "\n",
    "It is divided in 3 parts_\n",
    "\n",
    "1.   Python module load section: load all the needed modules\n",
    "2.   Google Drive access and mounting\n",
    "3.   Host load data\n",
    "\n",
    "\n",
    "\n",
    "\n"
   ]
  },
  {
   "cell_type": "markdown",
   "metadata": {
    "id": "tfmxFIzPWszg"
   },
   "source": [
    "## Module load section\n",
    "We will install the pycuda module in the colaboratory environment, to combine python and CUDA in our code. Because pycuda is not available by default, this task can take a few minutes.\n",
    "\n",
    "As well we load numpy and matplotlib modules."
   ]
  },
  {
   "cell_type": "code",
   "execution_count": 1,
   "metadata": {},
   "outputs": [
    {
     "name": "stdout",
     "output_type": "stream",
     "text": [
      "Requirement already satisfied: nibabel in c:\\users\\matte\\.conda\\envs\\optimization_analytics\\lib\\site-packages (5.3.2)\n",
      "Requirement already satisfied: importlib-resources>=5.12 in c:\\users\\matte\\.conda\\envs\\optimization_analytics\\lib\\site-packages (from nibabel) (6.5.2)\n",
      "Requirement already satisfied: numpy>=1.22 in c:\\users\\matte\\.conda\\envs\\optimization_analytics\\lib\\site-packages (from nibabel) (2.3.3)\n",
      "Requirement already satisfied: packaging>=20 in c:\\users\\matte\\.conda\\envs\\optimization_analytics\\lib\\site-packages (from nibabel) (25.0)\n",
      "Requirement already satisfied: typing-extensions>=4.6 in c:\\users\\matte\\.conda\\envs\\optimization_analytics\\lib\\site-packages (from nibabel) (4.15.0)\n",
      "Note: you may need to restart the kernel to use updated packages.\n"
     ]
    }
   ],
   "source": [
    "pip install nibabel"
   ]
  },
  {
   "cell_type": "markdown",
   "metadata": {
    "id": "hl4AhbSbW19W"
   },
   "source": [
    "We import the Python modules which we will use in the notebook (numpy, pycuda and time module) "
   ]
  },
  {
   "cell_type": "code",
   "execution_count": 4,
   "metadata": {
    "id": "TLEg2Y41HFB3"
   },
   "outputs": [],
   "source": [
    "import  numpy  as  np\n",
    "from sys import getsizeof\n",
    "import time\n",
    "from os.path import join"
   ]
  },
  {
   "cell_type": "code",
   "execution_count": 5,
   "metadata": {
    "id": "JfOtyml91WNb"
   },
   "outputs": [],
   "source": [
    "%matplotlib inline\n",
    "from PIL import Image\n",
    "import matplotlib.pyplot as plt\n",
    "import matplotlib.image as mpimg\n",
    "import cProfile"
   ]
  },
  {
   "cell_type": "code",
   "execution_count": 6,
   "metadata": {},
   "outputs": [],
   "source": [
    "import nibabel as nib"
   ]
  },
  {
   "cell_type": "code",
   "execution_count": 28,
   "metadata": {},
   "outputs": [],
   "source": [
    "# import your_library here\n",
    "from multiprocessing.sharedctypes import Value, Array, RawArray\n",
    "from multiprocessing import Process, Lock\n",
    "import multiprocessing as mp\n",
    "import ctypes"
   ]
  },
  {
   "cell_type": "markdown",
   "metadata": {},
   "source": [
    "# Three-dimensional filtering\n",
    "\n",
    "The objective of the practice is to implement a three-dimensional filtering of information (usually a 3-dimensional image coming from, for example, medical images) to which a preprocessing must be performed for further analysis.\n",
    "\n",
    "Due to technical limitations, we will assume that the filtering function is a cube of 3x3 voxels (or three-dimensional pixel) and the image will have a maximum size of 1Gbyte (1024x1024x1024), although it will not necessarily be cubic.\n",
    "\n",
    "## How to filter a voxel?\n",
    "To filter a voxel we select the coordinates of the voxel we want to filter and the surrounding neighbors in the 3 dimensions (for a 3x3 filter the coefficient corresponding to the voxel to be filtered corresponds to the positions (1,1,1) of the filter mask).\n",
    "The n selected neighbors are multiplied by the corresponding coefficients in the filter mask, around the selected voxel, and the products are summed, as in the case of 2-dimensional filters.\n",
    "\n",
    "The result of this sum is the value assigned to the selected position of the resulting voxel.\n",
    "\n",
    "## Cases at the edges\n",
    "To calculate the filtered voxel at a position corresponding to one of the edges of the image, we replicate that layer, so that the data of the missing layer is equal to that of the layer to be filtered.\n",
    "In the case of edges or corners, the value of the corresponding corner is replicated.\n",
    "\n",
    "## Clapping\n",
    "The resulting data will be an floating point 32bits data."
   ]
  },
  {
   "cell_type": "markdown",
   "metadata": {
    "id": "CHsvF9qH2G_u"
   },
   "source": [
    "## Mount Google Drive and access grant\n",
    "This part could be used to access to your Google Drive Data, **ONLY IF YOU ARE USING GOOGLE COLABORATORY**. Otherwise leave commented out. \n",
    "\n",
    "For security and privacy reasons, this permission is temporally, and will be requested every time you restart the notebook. \n",
    "\n",
    "Your Google Drive will be mounted in the \"/content/drive\" folder. The first Folder will be \"My Drive\".\n",
    "\n",
    "You have to copy your images to a folder in the \"My Drive\" folder in your Google Drive.\n",
    "\n",
    "To check your available files, use the cell indicated as \"**List Files in Folder**\""
   ]
  },
  {
   "cell_type": "code",
   "execution_count": null,
   "metadata": {
    "id": "ykYa7-u8zDzk"
   },
   "outputs": [],
   "source": [
    "# \n",
    "# from google.colab import drive\n",
    "# drive.mount(\"/content/drive\")"
   ]
  },
  {
   "cell_type": "code",
   "execution_count": null,
   "metadata": {},
   "outputs": [],
   "source": [
    "# !ls /content/drive/My\\ Drive/images"
   ]
  },
  {
   "cell_type": "code",
   "execution_count": null,
   "metadata": {
    "id": "RN-zy4mQzN-J"
   },
   "outputs": [],
   "source": []
  },
  {
   "cell_type": "markdown",
   "metadata": {
    "id": "ZtdarelZfv7Y"
   },
   "source": [
    "## IMAGES DEFINITION"
   ]
  },
  {
   "cell_type": "markdown",
   "metadata": {},
   "source": [
    "The follow MYDRIVE variable will be used to address where are stored the images files.\n",
    "\n",
    "Please, change it to your correct location.\n",
    "\n",
    "All the images should be refered to this directory."
   ]
  },
  {
   "cell_type": "code",
   "execution_count": 7,
   "metadata": {
    "id": "IEkj24AFzdqw"
   },
   "outputs": [],
   "source": [
    "MYDRIVE=\"./imgs\""
   ]
  },
  {
   "cell_type": "markdown",
   "metadata": {
    "id": "hQ9NrNYXf1Rg"
   },
   "source": [
    "We define a variable IMAGE which is constructed joining the \"MYDRIVE\" varible plus the final path to your image."
   ]
  },
  {
   "cell_type": "code",
   "execution_count": null,
   "metadata": {
    "id": "2TAhlCjS0YPw"
   },
   "outputs": [],
   "source": [
    "#IMAGE=join(MYDRIVE,HERE YOU HAVE TO WRITE THE IMAGE TO LOAD)"
   ]
  },
  {
   "cell_type": "code",
   "execution_count": 8,
   "metadata": {},
   "outputs": [],
   "source": [
    "IMAGE=join(MYDRIVE,'someones_epi.nii.gz')"
   ]
  },
  {
   "cell_type": "code",
   "execution_count": 9,
   "metadata": {
    "id": "xVa1h0wr0fDJ"
   },
   "outputs": [
    {
     "name": "stdout",
     "output_type": "stream",
     "text": [
      "Image to load: ./imgs\\someones_epi.nii.gz\n"
     ]
    }
   ],
   "source": [
    "print(\"Image to load: {0}\".format(IMAGE))"
   ]
  },
  {
   "cell_type": "markdown",
   "metadata": {
    "id": "otUSnNLOgilw"
   },
   "source": [
    "Loads an image in a numpy variable, and show."
   ]
  },
  {
   "cell_type": "code",
   "execution_count": 10,
   "metadata": {
    "id": "K5MbuRm_1hdQ"
   },
   "outputs": [
    {
     "data": {
      "text/plain": [
       "(53, 61, 33)"
      ]
     },
     "execution_count": 10,
     "metadata": {},
     "output_type": "execute_result"
    }
   ],
   "source": [
    "epi_img = nib.load(IMAGE)\n",
    "epi_img_data = epi_img.get_fdata().astype(np.float32)\n",
    "epi_img_data.shape"
   ]
  },
  {
   "cell_type": "code",
   "execution_count": 11,
   "metadata": {},
   "outputs": [],
   "source": [
    "epi_img_data_final = epi_img_data.T"
   ]
  },
  {
   "cell_type": "code",
   "execution_count": 12,
   "metadata": {},
   "outputs": [
    {
     "data": {
      "text/plain": [
       "(33, 61, 53)"
      ]
     },
     "execution_count": 12,
     "metadata": {},
     "output_type": "execute_result"
    }
   ],
   "source": [
    "epi_img_data_final.shape"
   ]
  },
  {
   "cell_type": "code",
   "execution_count": 13,
   "metadata": {},
   "outputs": [
    {
     "data": {
      "text/plain": [
       "dtype('float32')"
      ]
     },
     "execution_count": 13,
     "metadata": {},
     "output_type": "execute_result"
    }
   ],
   "source": [
    "epi_img_data.dtype"
   ]
  },
  {
   "cell_type": "code",
   "execution_count": 14,
   "metadata": {},
   "outputs": [
    {
     "data": {
      "text/plain": [
       "Text(0.5, 0.98, 'Center slices for EPI image')"
      ]
     },
     "execution_count": 14,
     "metadata": {},
     "output_type": "execute_result"
    },
    {
     "data": {
      "image/png": "[encoded data removed]",
      "text/plain": [
       "<Figure size 640x480 with 3 Axes>"
      ]
     },
     "metadata": {},
     "output_type": "display_data"
    }
   ],
   "source": [
    "import matplotlib.pyplot as plt\n",
    "\n",
    "def show_slices(slices):\n",
    "\n",
    "   \"\"\" Function to display row of image slices \"\"\"\n",
    "\n",
    "   fig, axes = plt.subplots(1, len(slices))\n",
    "\n",
    "   for i, slice in enumerate(slices):\n",
    "\n",
    "       axes[i].imshow(slice, cmap=\"gray\", origin=\"lower\")\n",
    "\n",
    "\n",
    "slice_0 = epi_img_data_final[26, :, :]\n",
    "slice_1 = epi_img_data_final[:, 30, :]\n",
    "slice_2 = epi_img_data_final[:, :, 16]\n",
    "\n",
    "show_slices([slice_0, slice_1, slice_2])\n",
    "plt.suptitle(\"Center slices for EPI image\")"
   ]
  },
  {
   "cell_type": "markdown",
   "metadata": {},
   "source": [
    "## FILTERS DEFINITION"
   ]
  },
  {
   "cell_type": "markdown",
   "metadata": {
    "id": "fV8ZVagpiI97"
   },
   "source": [
    "Here we defines our sample filter masks."
   ]
  },
  {
   "cell_type": "code",
   "execution_count": 15,
   "metadata": {
    "id": "eWzJi8niPpuQ"
   },
   "outputs": [],
   "source": [
    "#This is an identity filter: the resulting\n",
    "filter1=np.zeros((3,3,3),dtype=np.float32)\n",
    "filter1[1,1,1] =1.0"
   ]
  },
  {
   "cell_type": "code",
   "execution_count": 16,
   "metadata": {},
   "outputs": [],
   "source": [
    "#This is an edge detector filter in xy axis filter: the resulting\n",
    "filter2=np.zeros((3,3,3),dtype=np.float32)\n",
    "filter2[0,0,1] = -0.25\n",
    "filter2[2,0,1] = -0.25\n",
    "filter2[0,2,1] = 0.25\n",
    "filter2[2,2,1] = 0.25"
   ]
  },
  {
   "cell_type": "code",
   "execution_count": 17,
   "metadata": {},
   "outputs": [],
   "source": [
    "#This is an edge detector filter in xz axis: the resulting\n",
    "filter3=np.zeros((3,3,3),dtype=np.float32)\n",
    "filter3[0,1,0] = -0.25\n",
    "filter3[2,1,0] = -0.25\n",
    "filter3[0,1,2] = 0.25\n",
    "filter3[2,1,2] = 0.25"
   ]
  },
  {
   "cell_type": "markdown",
   "metadata": {},
   "source": [
    "# YOUR CODE"
   ]
  },
  {
   "cell_type": "markdown",
   "metadata": {
    "id": "N8y0LIU2hOd0"
   },
   "source": [
    "## SETUP EXPERIMENT"
   ]
  },
  {
   "cell_type": "markdown",
   "metadata": {
    "id": "N6NmxsN7X-02"
   },
   "source": [
    "Recover the image shape, and select the two first items (rows and columns)."
   ]
  },
  {
   "cell_type": "code",
   "execution_count": 18,
   "metadata": {
    "id": "-9aWxHFFHxzT"
   },
   "outputs": [],
   "source": [
    "image_shape=epi_img_data_final.shape"
   ]
  },
  {
   "cell_type": "markdown",
   "metadata": {
    "id": "4whAEkzPhvOC"
   },
   "source": [
    "Allocates the target image memory."
   ]
  },
  {
   "cell_type": "code",
   "execution_count": 27,
   "metadata": {},
   "outputs": [
    {
     "name": "stdout",
     "output_type": "stream",
     "text": [
      "106689\n"
     ]
    }
   ],
   "source": [
    "data_size = image_shape[0]*image_shape[1]*image_shape[2]\n",
    "print(data_size)\n",
    "\n",
    " ## HERE YOU MUST DEFINE THE SHARED MEMORY ARRAY WITH THE CORRECT DIMENSION SIZE\n",
    "filtered_image_shm = Array(ctypes.c_byte,data_size)"
   ]
  },
  {
   "cell_type": "markdown",
   "metadata": {},
   "source": [
    "### Extra Function we might need"
   ]
  },
  {
   "cell_type": "code",
   "execution_count": null,
   "metadata": {},
   "outputs": [],
   "source": [
    "def to_numpyarray(mp_arr):\n",
    "    return np.frombuffer(mp_arr.get_obj(), dtype=np.uint8)\n",
    "\n",
    "def init_sharedarray(shared_array,img_shape):\n",
    "    global shared_space\n",
    "    global shared_matrix\n",
    "\n",
    "    shared_space = shared_array\n",
    "    shared_matrix = to_numpyarray(shared_space).reshape(img_shape)\n",
    "\n",
    "def parallel_copy_image_rows(image,row):\n",
    "\n",
    "        global shared_space\n",
    "        global shared_matrix\n",
    "        \n",
    "        image = image\n",
    "        # with this instruction we lock the shared memory space, avoiding other parallel processes tries to write on it\n",
    "        with shared_space.get_lock():\n",
    "            #while we are in this code block no ones, except this execution thread, can write in the shared memory\n",
    "            shared_matrix[row,:,:]=image[row,:,:]\n",
    "        return"
   ]
  },
  {
   "cell_type": "code",
   "execution_count": null,
   "metadata": {},
   "outputs": [],
   "source": [
    "def convolve(row,image,filter):\n",
    "    # Define the size of the image\n",
    "    image_shape = image.shape\n",
    "    (rows,cols,depths)=image_shape\n",
    "\n",
    "    # Define the size of the filter\n",
    "    filter_shape = filter.shape\n",
    "    k_shape = filter_shape[0]//2\n",
    "    # Assuming the kernel is cubic and has odd dimensions\n",
    "    # (k_row,k_col,k_depth) = filter_shape\n",
    "\n",
    "    # We will iterate through each column and then each depth\n",
    "    # filling the region of interest with values, and then padding\n",
    "    # them with the same values at the borders\n",
    "    for c in range(cols):\n",
    "        for d in range(depths):\n",
    "            # We define the region of interest, this takes care of not \n",
    "            # filling the region out of the image boundaries\n",
    "            roi = image[max(row-k_shape,0):min(row+k_shape+1,rows),\n",
    "                        max(c-k_shape,0):min(c+k_shape+1,cols),\n",
    "                        max(d-k_shape,0):min(d+k_shape+1,depths)]\n",
    "\n",
    "            # Now we need to fill in the edge cases with padding copy-value padding\n",
    "            if roi.shape[0] < filter_shape[0]:\n",
    "                \n",
    "            if roi.shape[1] < filter_shape[1]:\n",
    "           \n",
    "            if roi.shape[2] < filter_shape[2]:\n",
    "\n",
    "            # We perform the convolution operation (element-wise multiplication and sum)\n",
    "            conv_value = np.sum(roi * filter)\n",
    "            # We assign the convolved value to the output image at the center of the filter\n",
    "            filtered_image_shm[row + filter_shape[0]//2, c + filter_shape[1]//2, d + filter_shape[2]//2] = conv_value\n",
    "\n",
    "\n"
   ]
  },
  {
   "cell_type": "code",
   "execution_count": 39,
   "metadata": {},
   "outputs": [],
   "source": [
    "def run_parrallel(sh_data,image,filter,NUMCORES=20):\n",
    "    image_shape=image.shape\n",
    "\n",
    "    #Convert the shared data array into a mutable numpy array\n",
    "    result_matrix=to_numpyarray(sh_data).reshape(image_shape)\n",
    "    \n",
    "    #In parralel start to read the global data into shared data by row\n",
    "    rows=range(image_shape[0])\n",
    "    with mp.Pool(processes=NUMCORES,initializer=init_sharedarray,initargs=[shared_space,image_shape]) as p:\n",
    "        p.map(parallel_copy_image_rows,[image,rows])\n",
    "    \n",
    "    # Run the parralel Convolution\n",
    "    with mp.Pool(processes=NUMCORES,initializer=init_sharedarray,initargs=[shared_space,image_shape]) as p:\n",
    "        p.map(convolve,rows)\n",
    "\n",
    "    return result_matrix\n",
    "\n",
    "\n",
    "    "
   ]
  },
  {
   "cell_type": "code",
   "execution_count": 38,
   "metadata": {},
   "outputs": [
    {
     "name": "stdout",
     "output_type": "stream",
     "text": [
      "(33, 61, 53)\n",
      "(33, 61, 53)\n"
     ]
    }
   ],
   "source": [
    "convolve(filtered_image_shm,image_shape)"
   ]
  },
  {
   "cell_type": "markdown",
   "metadata": {},
   "source": [
    "### The next lines is only valid for the filter mask filter1, in order to check if the image was readed correct"
   ]
  },
  {
   "cell_type": "code",
   "execution_count": null,
   "metadata": {},
   "outputs": [],
   "source": [
    "np.allclose(filtered_image,epi_img_data_final)"
   ]
  },
  {
   "cell_type": "markdown",
   "metadata": {},
   "source": [
    "*NOTE* The follow code fetch from the stack the exectution statistics produced by the magic metacommand %%timeit and stores it in a python variable."
   ]
  },
  {
   "cell_type": "markdown",
   "metadata": {
    "id": "uKz2XKjBkvgR"
   },
   "source": [
    "# Show results\n"
   ]
  },
  {
   "cell_type": "code",
   "execution_count": null,
   "metadata": {
    "id": "en0HMjtnk8uS"
   },
   "outputs": [],
   "source": [
    "slice_0 = filtered_image[26, :, :]\n",
    "slice_1 = filtered_image[:, 30, :]\n",
    "slice_2 = filtered_image[:, :, 16]\n",
    "\n",
    "show_slices([slice_0, slice_1, slice_2])\n",
    "plt.suptitle(\"Center slices for EPI image\")"
   ]
  },
  {
   "cell_type": "code",
   "execution_count": null,
   "metadata": {
    "id": "6DbfqushTXBR"
   },
   "outputs": [],
   "source": [
    "print(\"Best execution time: {}\".format(statistics.best))\n",
    "print(\"Worst execution time: {}\".format(statistics.worst))\n",
    "print(\"Mean execution time: {mean} ({stdev} std dev)\".format(mean=statistics.average,stdev=statistics.stdev))"
   ]
  },
  {
   "cell_type": "markdown",
   "metadata": {},
   "source": [
    "# CONCLUSIONS"
   ]
  },
  {
   "cell_type": "code",
   "execution_count": null,
   "metadata": {},
   "outputs": [],
   "source": []
  },
  {
   "cell_type": "code",
   "execution_count": null,
   "metadata": {},
   "outputs": [],
   "source": []
  },
  {
   "cell_type": "code",
   "execution_count": null,
   "metadata": {},
   "outputs": [],
   "source": []
  },
  {
   "cell_type": "code",
   "execution_count": null,
   "metadata": {},
   "outputs": [],
   "source": []
  },
  {
   "cell_type": "code",
   "execution_count": null,
   "metadata": {},
   "outputs": [],
   "source": []
  },
  {
   "cell_type": "code",
   "execution_count": null,
   "metadata": {},
   "outputs": [],
   "source": []
  },
  {
   "cell_type": "code",
   "execution_count": null,
   "metadata": {},
   "outputs": [],
   "source": []
  },
  {
   "cell_type": "code",
   "execution_count": null,
   "metadata": {},
   "outputs": [],
   "source": []
  },
  {
   "cell_type": "code",
   "execution_count": null,
   "metadata": {},
   "outputs": [],
   "source": []
  },
  {
   "cell_type": "code",
   "execution_count": null,
   "metadata": {},
   "outputs": [],
   "source": []
  },
  {
   "cell_type": "code",
   "execution_count": null,
   "metadata": {},
   "outputs": [],
   "source": []
  },
  {
   "cell_type": "code",
   "execution_count": null,
   "metadata": {},
   "outputs": [],
   "source": []
  },
  {
   "cell_type": "code",
   "execution_count": null,
   "metadata": {},
   "outputs": [],
   "source": []
  },
  {
   "cell_type": "code",
   "execution_count": null,
   "metadata": {},
   "outputs": [],
   "source": []
  },
  {
   "cell_type": "code",
   "execution_count": null,
   "metadata": {},
   "outputs": [],
   "source": []
  },
  {
   "cell_type": "code",
   "execution_count": null,
   "metadata": {},
   "outputs": [],
   "source": []
  },
  {
   "cell_type": "code",
   "execution_count": null,
   "metadata": {},
   "outputs": [],
   "source": []
  },
  {
   "cell_type": "code",
   "execution_count": null,
   "metadata": {},
   "outputs": [],
   "source": []
  },
  {
   "cell_type": "code",
   "execution_count": null,
   "metadata": {},
   "outputs": [],
   "source": []
  },
  {
   "cell_type": "code",
   "execution_count": null,
   "metadata": {},
   "outputs": [],
   "source": []
  },
  {
   "cell_type": "code",
   "execution_count": null,
   "metadata": {},
   "outputs": [],
   "source": []
  },
  {
   "cell_type": "code",
   "execution_count": null,
   "metadata": {},
   "outputs": [],
   "source": []
  },
  {
   "cell_type": "code",
   "execution_count": null,
   "metadata": {},
   "outputs": [],
   "source": []
  },
  {
   "cell_type": "code",
   "execution_count": null,
   "metadata": {},
   "outputs": [],
   "source": [
    "***"
   ]
  }
 ],
 "metadata": {
  "accelerator": "GPU",
  "colab": {
   "collapsed_sections": [],
   "name": "SecondPracticalWork.ipynb",
   "provenance": []
  },
  "kernelspec": {
   "display_name": "Python 3",
   "language": "python",
   "name": "python3"
  },
  "language_info": {
   "codemirror_mode": {
    "name": "ipython",
    "version": 3
   },
   "file_extension": ".py",
   "mimetype": "text/x-python",
   "name": "python",
   "nbconvert_exporter": "python",
   "pygments_lexer": "ipython3",
   "version": "3.11.13"
  }
 },
 "nbformat": 4,
 "nbformat_minor": 4
}

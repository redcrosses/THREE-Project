{
 "cells": [
  {
   "cell_type": "markdown",
   "metadata": {
    "id": "RgiFzR-TVFrA"
   },
   "source": [
    "# First Practical work\n",
    "\n",
    "* Name Student 1: Matteo Oliver Bekink\n",
    "* NIA Student 1: 100575997\n",
    "* Name Student 2: Pau Tarragona Juanes\n",
    "* NIA Student 2: 100575996\n",
    "* Name Student 3:\n",
    "* NIA Student 3:\n",
    "  \n",
    "This is second practical work skeleton.\n",
    "\n",
    "It is divided in 3 parts_\n",
    "\n",
    "1.   Python module load section: load all the needed modules\n",
    "2.   Google Drive access and mounting\n",
    "3.   Host load data\n",
    "\n",
    "\n",
    "\n",
    "\n"
   ]
  },
  {
   "cell_type": "markdown",
   "metadata": {
    "id": "tfmxFIzPWszg"
   },
   "source": [
    "## Module load section\n",
    "We will install the pycuda module in the colaboratory environment, to combine python and CUDA in our code. Because pycuda is not available by default, this task can take a few minutes.\n",
    "\n",
    "As well we load numpy and matplotlib modules."
   ]
  },
  {
   "cell_type": "code",
   "execution_count": 1,
   "metadata": {},
   "outputs": [
    {
     "name": "stdout",
     "output_type": "stream",
     "text": [
      "Requirement already satisfied: nibabel in c:\\users\\matte\\.conda\\envs\\optimization_analytics\\lib\\site-packages (5.3.2)\n",
      "Requirement already satisfied: importlib-resources>=5.12 in c:\\users\\matte\\.conda\\envs\\optimization_analytics\\lib\\site-packages (from nibabel) (6.5.2)\n",
      "Requirement already satisfied: numpy>=1.22 in c:\\users\\matte\\.conda\\envs\\optimization_analytics\\lib\\site-packages (from nibabel) (2.3.3)\n",
      "Requirement already satisfied: packaging>=20 in c:\\users\\matte\\.conda\\envs\\optimization_analytics\\lib\\site-packages (from nibabel) (25.0)\n",
      "Requirement already satisfied: typing-extensions>=4.6 in c:\\users\\matte\\.conda\\envs\\optimization_analytics\\lib\\site-packages (from nibabel) (4.15.0)\n",
      "Note: you may need to restart the kernel to use updated packages.\n"
     ]
    }
   ],
   "source": [
    "pip install nibabel"
   ]
  },
  {
   "cell_type": "markdown",
   "metadata": {
    "id": "hl4AhbSbW19W"
   },
   "source": [
    "We import the Python modules which we will use in the notebook (numpy, pycuda and time module) "
   ]
  },
  {
   "cell_type": "code",
   "execution_count": 2,
   "metadata": {
    "id": "TLEg2Y41HFB3"
   },
   "outputs": [],
   "source": [
    "import  numpy  as  np\n",
    "from sys import getsizeof\n",
    "import time\n",
    "from os.path import join"
   ]
  },
  {
   "cell_type": "code",
   "execution_count": 3,
   "metadata": {
    "id": "JfOtyml91WNb"
   },
   "outputs": [],
   "source": [
    "%matplotlib inline\n",
    "from PIL import Image\n",
    "import matplotlib.pyplot as plt\n",
    "import matplotlib.image as mpimg\n",
    "import cProfile"
   ]
  },
  {
   "cell_type": "code",
   "execution_count": 4,
   "metadata": {},
   "outputs": [],
   "source": [
    "import nibabel as nib"
   ]
  },
  {
   "cell_type": "code",
   "execution_count": 5,
   "metadata": {},
   "outputs": [],
   "source": [
    "# import your_library here\n",
    "from multiprocessing.sharedctypes import Value, Array, RawArray\n",
    "from multiprocessing import Process, Lock\n",
    "import multiprocessing as mp\n",
    "import ctypes"
   ]
  },
  {
   "cell_type": "markdown",
   "metadata": {},
   "source": [
    "# Three-dimensional filtering\n",
    "\n",
    "The objective of the practice is to implement a three-dimensional filtering of information (usually a 3-dimensional image coming from, for example, medical images) to which a preprocessing must be performed for further analysis.\n",
    "\n",
    "Due to technical limitations, we will assume that the filtering function is a cube of 3x3 voxels (or three-dimensional pixel) and the image will have a maximum size of 1Gbyte (1024x1024x1024), although it will not necessarily be cubic.\n",
    "\n",
    "## How to filter a voxel?\n",
    "To filter a voxel we select the coordinates of the voxel we want to filter and the surrounding neighbors in the 3 dimensions (for a 3x3 filter the coefficient corresponding to the voxel to be filtered corresponds to the positions (1,1,1) of the filter mask).\n",
    "The n selected neighbors are multiplied by the corresponding coefficients in the filter mask, around the selected voxel, and the products are summed, as in the case of 2-dimensional filters.\n",
    "\n",
    "The result of this sum is the value assigned to the selected position of the resulting voxel.\n",
    "\n",
    "## Cases at the edges\n",
    "To calculate the filtered voxel at a position corresponding to one of the edges of the image, we replicate that layer, so that the data of the missing layer is equal to that of the layer to be filtered.\n",
    "In the case of edges or corners, the value of the corresponding corner is replicated.\n",
    "\n",
    "## Clapping\n",
    "The resulting data will be an floating point 32bits data."
   ]
  },
  {
   "cell_type": "markdown",
   "metadata": {
    "id": "CHsvF9qH2G_u"
   },
   "source": [
    "## Mount Google Drive and access grant\n",
    "This part could be used to access to your Google Drive Data, **ONLY IF YOU ARE USING GOOGLE COLABORATORY**. Otherwise leave commented out. \n",
    "\n",
    "For security and privacy reasons, this permission is temporally, and will be requested every time you restart the notebook. \n",
    "\n",
    "Your Google Drive will be mounted in the \"/content/drive\" folder. The first Folder will be \"My Drive\".\n",
    "\n",
    "You have to copy your images to a folder in the \"My Drive\" folder in your Google Drive.\n",
    "\n",
    "To check your available files, use the cell indicated as \"**List Files in Folder**\""
   ]
  },
  {
   "cell_type": "code",
   "execution_count": 6,
   "metadata": {
    "id": "ykYa7-u8zDzk"
   },
   "outputs": [],
   "source": [
    "# \n",
    "# from google.colab import drive\n",
    "# drive.mount(\"/content/drive\")"
   ]
  },
  {
   "cell_type": "code",
   "execution_count": 7,
   "metadata": {},
   "outputs": [],
   "source": [
    "# !ls /content/drive/My\\ Drive/images"
   ]
  },
  {
   "cell_type": "code",
   "execution_count": null,
   "metadata": {
    "id": "RN-zy4mQzN-J"
   },
   "outputs": [],
   "source": []
  },
  {
   "cell_type": "markdown",
   "metadata": {
    "id": "ZtdarelZfv7Y"
   },
   "source": [
    "## IMAGES DEFINITION"
   ]
  },
  {
   "cell_type": "markdown",
   "metadata": {},
   "source": [
    "The follow MYDRIVE variable will be used to address where are stored the images files.\n",
    "\n",
    "Please, change it to your correct location.\n",
    "\n",
    "All the images should be refered to this directory."
   ]
  },
  {
   "cell_type": "code",
   "execution_count": 8,
   "metadata": {
    "id": "IEkj24AFzdqw"
   },
   "outputs": [],
   "source": [
    "MYDRIVE=\"./imgs\""
   ]
  },
  {
   "cell_type": "markdown",
   "metadata": {
    "id": "hQ9NrNYXf1Rg"
   },
   "source": [
    "We define a variable IMAGE which is constructed joining the \"MYDRIVE\" varible plus the final path to your image."
   ]
  },
  {
   "cell_type": "code",
   "execution_count": 9,
   "metadata": {
    "id": "2TAhlCjS0YPw"
   },
   "outputs": [],
   "source": [
    "#IMAGE=join(MYDRIVE,HERE YOU HAVE TO WRITE THE IMAGE TO LOAD)"
   ]
  },
  {
   "cell_type": "code",
   "execution_count": 10,
   "metadata": {},
   "outputs": [],
   "source": [
    "IMAGE=join(MYDRIVE,'someones_epi.nii.gz')"
   ]
  },
  {
   "cell_type": "code",
   "execution_count": 11,
   "metadata": {
    "id": "xVa1h0wr0fDJ"
   },
   "outputs": [
    {
     "name": "stdout",
     "output_type": "stream",
     "text": [
      "Image to load: ./imgs\\someones_epi.nii.gz\n"
     ]
    }
   ],
   "source": [
    "print(\"Image to load: {0}\".format(IMAGE))"
   ]
  },
  {
   "cell_type": "markdown",
   "metadata": {
    "id": "otUSnNLOgilw"
   },
   "source": [
    "Loads an image in a numpy variable, and show."
   ]
  },
  {
   "cell_type": "code",
   "execution_count": 12,
   "metadata": {
    "id": "K5MbuRm_1hdQ"
   },
   "outputs": [
    {
     "data": {
      "text/plain": [
       "(53, 61, 33)"
      ]
     },
     "execution_count": 12,
     "metadata": {},
     "output_type": "execute_result"
    }
   ],
   "source": [
    "epi_img = nib.load(IMAGE)\n",
    "epi_img_data = epi_img.get_fdata().astype(np.float32)\n",
    "epi_img_data.shape"
   ]
  },
  {
   "cell_type": "code",
   "execution_count": 13,
   "metadata": {},
   "outputs": [],
   "source": [
    "epi_img_data_final = epi_img_data.T"
   ]
  },
  {
   "cell_type": "code",
   "execution_count": 14,
   "metadata": {},
   "outputs": [
    {
     "data": {
      "text/plain": [
       "(33, 61, 53)"
      ]
     },
     "execution_count": 14,
     "metadata": {},
     "output_type": "execute_result"
    }
   ],
   "source": [
    "epi_img_data_final.shape"
   ]
  },
  {
   "cell_type": "code",
   "execution_count": 15,
   "metadata": {},
   "outputs": [
    {
     "data": {
      "text/plain": [
       "dtype('float32')"
      ]
     },
     "execution_count": 15,
     "metadata": {},
     "output_type": "execute_result"
    }
   ],
   "source": [
    "epi_img_data.dtype"
   ]
  },
  {
   "cell_type": "code",
   "execution_count": 16,
   "metadata": {},
   "outputs": [
    {
     "data": {
      "text/plain": [
       "Text(0.5, 0.98, 'Center slices for EPI image')"
      ]
     },
     "execution_count": 16,
     "metadata": {},
     "output_type": "execute_result"
    },
    {
     "data": {
      "image/png": "[encoded data removed]",
      "text/plain": [
       "<Figure size 640x480 with 3 Axes>"
      ]
     },
     "metadata": {},
     "output_type": "display_data"
    }
   ],
   "source": [
    "import matplotlib.pyplot as plt\n",
    "\n",
    "def show_slices(slices):\n",
    "\n",
    "   \"\"\" Function to display row of image slices \"\"\"\n",
    "\n",
    "   fig, axes = plt.subplots(1, len(slices))\n",
    "\n",
    "   for i, slice in enumerate(slices):\n",
    "\n",
    "       axes[i].imshow(slice, cmap=\"gray\", origin=\"lower\")\n",
    "\n",
    "\n",
    "slice_0 = epi_img_data_final[26, :, :]\n",
    "slice_1 = epi_img_data_final[:, 30, :]\n",
    "slice_2 = epi_img_data_final[:, :, 16]\n",
    "\n",
    "show_slices([slice_0, slice_1, slice_2])\n",
    "plt.suptitle(\"Center slices for EPI image\")"
   ]
  },
  {
   "cell_type": "markdown",
   "metadata": {},
   "source": [
    "## FILTERS DEFINITION"
   ]
  },
  {
   "cell_type": "markdown",
   "metadata": {
    "id": "fV8ZVagpiI97"
   },
   "source": [
    "Here we defines our sample filter masks."
   ]
  },
  {
   "cell_type": "code",
   "execution_count": 17,
   "metadata": {
    "id": "eWzJi8niPpuQ"
   },
   "outputs": [],
   "source": [
    "#This is an identity filter: the resulting\n",
    "filter1=np.zeros((3,3,3),dtype=np.float32)\n",
    "filter1[1,1,1] =1.0"
   ]
  },
  {
   "cell_type": "code",
   "execution_count": 18,
   "metadata": {},
   "outputs": [],
   "source": [
    "#This is an edge detector filter in xy axis filter: the resulting\n",
    "filter2=np.zeros((3,3,3),dtype=np.float32)\n",
    "filter2[0,0,1] = -0.25\n",
    "filter2[2,0,1] = -0.25\n",
    "filter2[0,2,1] = 0.25\n",
    "filter2[2,2,1] = 0.25"
   ]
  },
  {
   "cell_type": "code",
   "execution_count": 19,
   "metadata": {},
   "outputs": [],
   "source": [
    "#This is an edge detector filter in xz axis: the resulting\n",
    "filter3=np.zeros((3,3,3),dtype=np.float32)\n",
    "filter3[0,1,0] = -0.25\n",
    "filter3[2,1,0] = -0.25\n",
    "filter3[0,1,2] = 0.25\n",
    "filter3[2,1,2] = 0.25"
   ]
  },
  {
   "cell_type": "markdown",
   "metadata": {},
   "source": [
    "# YOUR CODE"
   ]
  },
  {
   "cell_type": "markdown",
   "metadata": {},
   "source": [
    "### Extra Function we might need"
   ]
  },
  {
   "cell_type": "code",
   "execution_count": 20,
   "metadata": {},
   "outputs": [],
   "source": [
    "def to_numpyarray(mp_arr, dtype=np.float32):\n",
    "    return np.frombuffer(mp_arr.get_obj(), dtype=dtype)\n",
    "\n",
    "def init_sharedarray(output_shared_array, img_shape, input_shared_array, padded_img_shape, kernel):\n",
    "    global filtered_shared_space\n",
    "    global filtered_shared_matrix\n",
    "\n",
    "    filtered_shared_space = output_shared_array\n",
    "    filtered_shared_matrix = to_numpyarray(filtered_shared_space).reshape(img_shape)\n",
    "\n",
    "    global padded_shared_space\n",
    "    global padded_shared_matrix\n",
    "    padded_shared_space = input_shared_array\n",
    "    padded_shared_matrix = to_numpyarray(padded_shared_space).reshape(padded_img_shape)\n",
    "\n",
    "    global kernel_matrix\n",
    "    kernel_matrix = kernel\n",
    "    return\n",
    "\n",
    "def same_padding(pad, arr):\n",
    "    (rows, cols, depths) = arr.shape\n",
    "\n",
    "    new_rows = rows + 2*pad\n",
    "    new_cols = cols + 2*pad\n",
    "    new_depths = depths + 2*pad\n",
    "\n",
    "    padded = np.zeros((new_rows, new_cols, new_depths), dtype=arr.dtype)\n",
    "    \n",
    "    padded[pad:pad+rows, pad:pad+cols, pad:pad+depths] = arr\n",
    "\n",
    "    for i in range(pad):\n",
    "        # Pad along rows\n",
    "        padded[i, pad:pad+cols, pad:pad+depths] = arr[0, :, :]\n",
    "        padded[new_rows - i - 1, pad:pad+cols, pad:pad+depths] = arr[rows - 1, :, :]\n",
    "\n",
    "        # Pad along columns\n",
    "        padded[:, i, pad:pad+depths] = padded[:, pad, pad:pad+depths]\n",
    "        padded[:, new_cols - i - 1, pad:pad+depths] = padded[:, new_cols - pad - 1, pad:pad+depths]\n",
    "\n",
    "        # Pad along depths\n",
    "        padded[:, :, i] = padded[:, :, pad]\n",
    "        padded[:, :, new_depths - i - 1] = padded[:, :, new_depths - pad - 1]\n",
    "\n",
    "    return padded"
   ]
  },
  {
   "cell_type": "markdown",
   "metadata": {
    "id": "N8y0LIU2hOd0"
   },
   "source": [
    "## SETUP EXPERIMENT"
   ]
  },
  {
   "cell_type": "markdown",
   "metadata": {
    "id": "N6NmxsN7X-02"
   },
   "source": [
    "SET THE IMAGE RANGE AND THE FILTER"
   ]
  },
  {
   "cell_type": "code",
   "execution_count": 21,
   "metadata": {
    "id": "-9aWxHFFHxzT"
   },
   "outputs": [],
   "source": [
    "image = epi_img_data_final[:,:,:]  # Use the entire image\n",
    "filter = filter1"
   ]
  },
  {
   "cell_type": "markdown",
   "metadata": {
    "id": "4whAEkzPhvOC"
   },
   "source": [
    "Allocates the target image memory."
   ]
  },
  {
   "cell_type": "code",
   "execution_count": 22,
   "metadata": {},
   "outputs": [
    {
     "name": "stdout",
     "output_type": "stream",
     "text": [
      "Image shape: (33, 61, 53)\n",
      "Padded shape: (35, 63, 55)\n"
     ]
    }
   ],
   "source": [
    "padded_image_arr = same_padding(filter.shape[0]//2, image)\n",
    "\n",
    "image_shape = image.shape\n",
    "print(f\"Image shape: {image_shape}\")\n",
    "data_size = image_shape[0]*image_shape[1]*image_shape[2]\n",
    "\n",
    "# Allocate shared memory for filtered image\n",
    "filtered_image_shm = Array(ctypes.c_float, data_size, lock=True)\n",
    "\n",
    "padded_shape = padded_image_arr.shape\n",
    "print(f\"Padded shape: {padded_shape}\")\n",
    "padded_data_size = padded_shape[0]*padded_shape[1]*padded_shape[2]\n",
    "\n",
    "# Allocate shared memory for padded image\n",
    "padded_image_shm = Array(ctypes.c_float, padded_data_size, lock=True)"
   ]
  },
  {
   "cell_type": "code",
   "execution_count": 23,
   "metadata": {},
   "outputs": [],
   "source": [
    "def same_padding(pad,arr):\n",
    "    (rows,cols,depths)=arr.shape\n",
    "\n",
    "    new_rows=rows+2*pad\n",
    "    new_cols=cols+2*pad\n",
    "    new_depths=depths+2*pad\n",
    "\n",
    "    padded = np.zeros((new_rows,new_cols,new_depths), dtype=arr.dtype)\n",
    "    \n",
    "    padded[pad:pad+rows, pad:pad+cols, pad:pad+depths] = arr\n",
    "\n",
    "    for i in range(pad):\n",
    "        # Pad along rows\n",
    "        padded[i, pad:pad+cols, pad:pad+depths] = arr[0, :, :]\n",
    "        padded[new_rows - i - 1, pad:pad+cols, pad:pad+depths] = arr[rows - 1, :, :]\n",
    "\n",
    "        # Pad along columns\n",
    "        padded[:, i, pad:pad+depths] = padded[:, pad, pad:pad+depths]\n",
    "        padded[:, new_cols - i - 1, pad:pad+depths] = padded[:, new_cols - pad - 1, pad:pad+depths]\n",
    "\n",
    "        # Pad along depths\n",
    "        padded[:, :, i] = padded[:, :, pad]\n",
    "        padded[:, :, new_depths - i - 1] = padded[:, :, new_depths - pad - 1]\n",
    "\n",
    "    return padded"
   ]
  },
  {
   "cell_type": "code",
   "execution_count": 24,
   "metadata": {},
   "outputs": [],
   "source": [
    "def convolve(row):\n",
    "    global filtered_shared_space\n",
    "    global filtered_shared_matrix\n",
    "    global padded_shared_space\n",
    "    global padded_shared_matrix\n",
    "    global kernel_matrix\n",
    "\n",
    "    rows, cols, depths = filtered_shared_matrix.shape\n",
    "    k = kernel_matrix.shape[0] // 2\n",
    "\n",
    "    filtered_row = np.zeros((cols, depths), dtype=np.float32)\n",
    "    \n",
    "    for c in range(cols):\n",
    "        for d in range(depths):\n",
    "            padded_row = row + k\n",
    "            padded_c = c + k\n",
    "            padded_d = d + k\n",
    "            \n",
    "            roi = padded_shared_matrix[padded_row - k:padded_row + k + 1, \n",
    "                         padded_c - k:padded_c + k + 1, \n",
    "                         padded_d - k:padded_d + k + 1]\n",
    "            \n",
    "            filtered_row[c, d] = float(np.sum(roi * kernel_matrix))\n",
    "    \n",
    "    with filtered_shared_space.get_lock():\n",
    "        filtered_shared_matrix[row, :, :] = filtered_row\n",
    "    \n",
    "    return"
   ]
  },
  {
   "cell_type": "code",
   "execution_count": 25,
   "metadata": {},
   "outputs": [],
   "source": [
    "def run_parallel(output_shm, input_image, input_shm, padded_shape, filter_kernel, NUMCORES=4):\n",
    "    image_shape = input_image.shape\n",
    "    \n",
    "    # Pad the input image\n",
    "    padded_image_arr = same_padding(filter_kernel.shape[0]//2, input_image)\n",
    "    \n",
    "    # Get reference to padded shared memory and fill it\n",
    "    padded_image = to_numpyarray(input_shm).reshape(padded_shape)\n",
    "    padded_image[:] = padded_image_arr[:]\n",
    "    \n",
    "    rows = range(image_shape[0])\n",
    "\n",
    "    # If NUMCORES is 1, run sequentially without creating a process pool\n",
    "    if NUMCORES == 1:\n",
    "        # Initialize shared arrays in main process\n",
    "        init_sharedarray(output_shm, image_shape, input_shm, padded_shape, filter_kernel)\n",
    "        \n",
    "        # Run convolution sequentially\n",
    "        for row in rows:\n",
    "            convolve(row)\n",
    "    else:\n",
    "        # Use multiprocessing for NUMCORES > 1\n",
    "        with mp.Pool(processes=NUMCORES,\n",
    "                    initializer=init_sharedarray,\n",
    "                    initargs=[output_shm, image_shape, input_shm, padded_shape, filter_kernel]) as p:\n",
    "            p.map(convolve, rows)\n",
    "\n",
    "    # Get result from shared memory\n",
    "    result_matrix = to_numpyarray(output_shm).reshape(image_shape)\n",
    "    return result_matrix"
   ]
  },
  {
   "cell_type": "markdown",
   "metadata": {},
   "source": [
    "## OUTPUT OF CONVOLUTION\n",
    "We will perform 2 tests, one in comparison to original image and another to a `scipy` function. We expect the tests to ouput the following:\n",
    "* kernel1: `True`,`True`\n",
    "* kernel2: `False`,`True`\n",
    "* kernel3: `False`,`True`"
   ]
  },
  {
   "cell_type": "code",
   "execution_count": 53,
   "metadata": {},
   "outputs": [],
   "source": [
    "filter=filter2"
   ]
  },
  {
   "cell_type": "code",
   "execution_count": 54,
   "metadata": {},
   "outputs": [
    {
     "name": "stdout",
     "output_type": "stream",
     "text": [
      "Starting parallel execution...\n",
      "Parallel execution complete in 0.42s!\n",
      "Result shape: (33, 61, 53)\n",
      "Matches original image: False\n"
     ]
    }
   ],
   "source": [
    "\n",
    "print(\"Starting parallel execution...\")\n",
    "start_time = time.time()\n",
    "\n",
    "# Run with filter1 (identity filter)\n",
    "result = run_parallel(filtered_image_shm, image, padded_image_shm, padded_shape, filter, NUMCORES=1)\n",
    "\n",
    "end_time = time.time()\n",
    "\n",
    "print(f\"Parallel execution complete in {end_time - start_time:.2f}s!\")\n",
    "print(f\"Result shape: {result.shape}\")\n",
    "print(f\"Matches original image: {np.allclose(result, image, atol=1e-6)}\")"
   ]
  },
  {
   "cell_type": "code",
   "execution_count": 55,
   "metadata": {},
   "outputs": [
    {
     "name": "stdout",
     "output_type": "stream",
     "text": [
      "Matches scipy output: True\n"
     ]
    }
   ],
   "source": [
    "import scipy as sp\n",
    "\n",
    "# Test with scipy\n",
    "actual_output = sp.ndimage.correlate(image, filter, mode='nearest')\n",
    "print(f\"Matches scipy output: {np.allclose(result, actual_output, atol=1e-4)}\")\n",
    "\n",
    "# Get filtered image from shared memory for visualization\n",
    "filtered_image = to_numpyarray(filtered_image_shm).reshape(image_shape)"
   ]
  },
  {
   "cell_type": "markdown",
   "metadata": {
    "id": "uKz2XKjBkvgR"
   },
   "source": [
    "# Show results\n"
   ]
  },
  {
   "cell_type": "code",
   "execution_count": 56,
   "metadata": {
    "id": "en0HMjtnk8uS"
   },
   "outputs": [
    {
     "data": {
      "text/plain": [
       "Text(0.5, 0.98, 'Center slices for EPI image')"
      ]
     },
     "execution_count": 56,
     "metadata": {},
     "output_type": "execute_result"
    },
    {
     "data": {
      "image/png": "[encoded data removed]",
      "text/plain": [
       "<Figure size 640x480 with 3 Axes>"
      ]
     },
     "metadata": {},
     "output_type": "display_data"
    }
   ],
   "source": [
    "slice_0 = filtered_image[26, :, :]\n",
    "slice_1 = filtered_image[:, 30, :]\n",
    "slice_2 = filtered_image[:, :, 16]\n",
    "\n",
    "show_slices([slice_0, slice_1, slice_2])\n",
    "plt.suptitle(\"Center slices for EPI image\")"
   ]
  },
  {
   "cell_type": "code",
   "execution_count": 29,
   "metadata": {},
   "outputs": [
    {
     "ename": "NameError",
     "evalue": "name 'test_convolved' is not defined",
     "output_type": "error",
     "traceback": [
      "\u001b[31m---------------------------------------------------------------------------\u001b[39m",
      "\u001b[31mNameError\u001b[39m                                 Traceback (most recent call last)",
      "\u001b[36mCell\u001b[39m\u001b[36m \u001b[39m\u001b[32mIn[29]\u001b[39m\u001b[32m, line 1\u001b[39m\n\u001b[32m----> \u001b[39m\u001b[32m1\u001b[39m slicetest_0 = \u001b[43mtest_convolved\u001b[49m[\u001b[32m26\u001b[39m, :, :]\n\u001b[32m      2\u001b[39m slicetest_1 = test_convolved[:, \u001b[32m30\u001b[39m, :]\n\u001b[32m      3\u001b[39m slicetest_2 = test_convolved[:, :, \u001b[32m16\u001b[39m]\n",
      "\u001b[31mNameError\u001b[39m: name 'test_convolved' is not defined"
     ]
    }
   ],
   "source": [
    "slicetest_0 = test_convolved[26, :, :]\n",
    "slicetest_1 = test_convolved[:, 30, :]\n",
    "slicetest_2 = test_convolved[:, :, 16]\n",
    "\n",
    "show_slices([slicetest_0, slicetest_1, slicetest_2])\n",
    "plt.suptitle(\"Center slices for EPI image (test)\")"
   ]
  },
  {
   "cell_type": "code",
   "execution_count": null,
   "metadata": {
    "id": "6DbfqushTXBR"
   },
   "outputs": [],
   "source": [
    "# print(\"Best execution time: {}\".format(statistics.best))\n",
    "# print(\"Worst execution time: {}\".format(statistics.worst))\n",
    "# print(\"Mean execution time: {mean} ({stdev} std dev)\".format(mean=statistics.average,stdev=statistics.stdev))"
   ]
  },
  {
   "cell_type": "markdown",
   "metadata": {},
   "source": [
    "# CONCLUSIONS"
   ]
  },
  {
   "cell_type": "markdown",
   "metadata": {},
   "source": []
  }
 ],
 "metadata": {
  "accelerator": "GPU",
  "colab": {
   "collapsed_sections": [],
   "name": "SecondPracticalWork.ipynb",
   "provenance": []
  },
  "kernelspec": {
   "display_name": "Python 3",
   "language": "python",
   "name": "python3"
  },
  "language_info": {
   "codemirror_mode": {
    "name": "ipython",
    "version": 3
   },
   "file_extension": ".py",
   "mimetype": "text/x-python",
   "name": "python",
   "nbconvert_exporter": "python",
   "pygments_lexer": "ipython3",
   "version": "3.11.13"
  }
 },
 "nbformat": 4,
 "nbformat_minor": 4
}
